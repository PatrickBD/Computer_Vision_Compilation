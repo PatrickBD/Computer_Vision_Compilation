{
  "cells": [
    {
      "metadata": {
        "_uuid": "e9a706a772e5a95eb6c10ff8a12a7a1c340b2f40"
      },
      "cell_type": "markdown",
      "source": "# Making Faces Using an Autoencoder\n\nAutoencoders learn to compress data into a smaller frame and then reconstruct that data from that frame. When a computer encodes data this way, it is basically simplifying the data into what features it finds to be the most useful. This notebook will train an autoencoder on faces, then use PCA to create new encoded data that looks similar enough to our training data to create artificial faces based on the features that the neural network found was important."
    },
    {
      "metadata": {
        "trusted": true,
        "_uuid": "0215703aede6b14025b8ebbfd37e79dc2c86fe25"
      },
      "cell_type": "code",
      "source": "!pip3 install face_recognition\nimport face_recognition",
      "execution_count": null,
      "outputs": []
    },
    {
      "metadata": {
        "_uuid": "8f2839f25d086af736a60e9eeb907d3b93b6e0e5",
        "_cell_guid": "b1076dfc-b9ad-4769-8c92-a6c4dae69d19",
        "trusted": true
      },
      "cell_type": "code",
      "source": "import os\nimport sys\nimport random\nimport warnings\nfrom pylab import imshow, show, get_cmap\n\nimport numpy as np\nimport pandas as pd\nfrom numpy import random\n\nimport matplotlib.pyplot as plt\n\nfrom tqdm import tqdm\nfrom itertools import chain\nimport skimage\nfrom PIL import Image\nfrom skimage.io import imread, imshow, imread_collection, concatenate_images\nfrom skimage.transform import resize\nfrom skimage.util import crop, pad\nfrom skimage.morphology import label\n\nfrom keras.models import Model, load_model,Sequential\nfrom keras.layers import Input, Dense, UpSampling2D, Flatten, Reshape\nfrom keras.layers.core import Dropout, Lambda\nfrom keras.layers.convolutional import Conv2D, Conv2DTranspose\nfrom keras.layers.pooling import MaxPooling2D\nfrom keras.layers.merge import concatenate\nfrom keras.callbacks import EarlyStopping, ModelCheckpoint, ReduceLROnPlateau\nfrom keras.optimizers import Adam\nfrom keras import backend as K\n\nimport tensorflow as tf\n\nIMG_WIDTH = 128\nIMG_HEIGHT = 128\nIMG_CHANNELS = 3\nINPUT_SHAPE=(IMG_HEIGHT, IMG_WIDTH, IMG_CHANNELS)\nD_INPUT_SHAPE=[192]\nTRAIN_PATH = '../input/lagdataset_200/LAGdataset_200/'\n\nwarnings.filterwarnings('ignore', category=UserWarning, module='skimage')\nseed = 42\nrandom.seed = seed\nnp.random.seed = seed",
      "execution_count": null,
      "outputs": []
    },
    {
      "metadata": {
        "_uuid": "86158dfec8f90832b4c1753981c219d1be147c2f"
      },
      "cell_type": "markdown",
      "source": "# Read in the Faces\n\nFor preprocessing, the face recognition package will be used to find the bounding box around the face in the image and cut out the surrounding areas. Since the faces are taken from different areas and radically different hairstyles, limiting the area to just the face makes it a little easier on our model and focus on the most important features."
    },
    {
      "metadata": {
        "trusted": true,
        "_uuid": "739c6f37ff06bab59c3020f4072c07ffbc63c2e2"
      },
      "cell_type": "code",
      "source": "def FaceCrop(image):\n    face_locations = face_recognition.face_locations(image)\n    top, right, bottom, left = face_locations[0]\n    image = image[top:bottom,left:right]\n    return image",
      "execution_count": null,
      "outputs": []
    },
    {
      "metadata": {
        "trusted": true,
        "_uuid": "5ce8d3f5568e68e131a91fdb97a2f876fe0a8ed4"
      },
      "cell_type": "code",
      "source": "%%time\ntrain_ids = next(os.walk(TRAIN_PATH))[2]\nX_train = np.zeros((len(train_ids), IMG_HEIGHT, IMG_WIDTH, IMG_CHANNELS), dtype=np.uint8)\nfinal_train_ids = []\nmissing_count = 0\nprint('Getting train images ... ')\nsys.stdout.flush()\nfor n, id_ in tqdm(enumerate(train_ids), total=len(train_ids)):\n    path = TRAIN_PATH + id_+''\n    try:\n        img = imread(path)\n        img = FaceCrop(img)\n        img = resize(img, (IMG_HEIGHT, IMG_WIDTH), mode='constant', preserve_range=True)\n        X_train[n-missing_count] = img\n        final_train_ids.append(id_)\n    except:\n        missing_count += 1\n        \nprint(\"Total missing: \"+ str(missing_count))\nX_train = X_train[0:X_train.shape[0]-missing_count]",
      "execution_count": null,
      "outputs": []
    },
    {
      "metadata": {
        "trusted": true,
        "_uuid": "d7f44052eda740b3813309b65696a84581443ad1"
      },
      "cell_type": "code",
      "source": "for n in range(0,5):\n    imshow(X_train[n])\n    plt.show()",
      "execution_count": null,
      "outputs": []
    },
    {
      "metadata": {
        "_uuid": "aa45ee1aa1d6d30f54f03a8cc53a629a67501d8a"
      },
      "cell_type": "markdown",
      "source": "# Add Noise\n\nIt is usually a good idea to add some noise to the training images when making an autoencoder."
    },
    {
      "metadata": {
        "trusted": true,
        "_uuid": "983a3243ac9f084d6c7490335fe74d3deb803273"
      },
      "cell_type": "code",
      "source": "X_train = X_train.astype('float32') / 255.\nX_train_noisy = X_train + 0.1 * np.random.normal(size=X_train.shape)\n\nX_train_noisy = np.clip(X_train_noisy, 0., 1.)",
      "execution_count": null,
      "outputs": []
    },
    {
      "metadata": {
        "_uuid": "eabcca55a39fca643df6ab142cd26ff5259ec384"
      },
      "cell_type": "markdown",
      "source": "# Create the Models\n\nWe will create three models, the encoder, the decoder, and the autoencoder which is a combination of the 2. Make sure to keep the names of the layers consistent with the autoencoder as we will be setting the weights by_name after training the autoencoder."
    },
    {
      "metadata": {
        "trusted": true,
        "_uuid": "43af33c6dda550eccc1c03854bd82210ffbd75b7"
      },
      "cell_type": "code",
      "source": "def Encoder():\n    inp = Input(shape=INPUT_SHAPE)\n    x = Conv2D(128, (4, 4), activation='elu', padding='same',name='encode1')(inp)\n    x = Conv2D(64, (3, 3), activation='elu', padding='same',name='encode2')(x)\n    x = Conv2D(32, (2, 2), activation='elu', padding='same',name='encode3')(x)\n    x = MaxPooling2D((2, 2), padding='same')(x)\n    x = Conv2D(64, (4, 4), activation='elu', padding='same',name='encode4')(x)\n    x = Conv2D(32, (3, 3), activation='elu', padding='same',name='encode5')(x)\n    x = Conv2D(16, (2, 2), activation='elu', padding='same',name='encode6')(x)\n    x = MaxPooling2D((2, 2), padding='same')(x)\n    x = Conv2D(64, (4, 4), activation='elu', padding='same',name='encode7')(x)\n    x = Conv2D(32, (3, 3), activation='elu', padding='same',name='encode8')(x)\n    x = Conv2D(16, (2, 2), activation='elu', padding='same',name='encode9')(x)\n    x = MaxPooling2D((2, 2), padding='same')(x)\n    x = Conv2D(64, (4, 4), activation='elu', padding='same',name='encode10')(x)\n    x = Conv2D(32, (3, 3), activation='elu', padding='same',name='encode11')(x)\n    x = Conv2D(16, (2, 2), activation='elu', padding='same',name='encode12')(x)\n    x = MaxPooling2D((2, 2), padding='same')(x)\n    x = Conv2D(32, (4, 4), activation='elu', padding='same',name='encode13')(x)\n    x = Conv2D(16, (3, 3), activation='elu', padding='same',name='encode14')(x)\n    x = Conv2D(16, (2, 2), activation='elu', padding='same',name='encode15')(x)\n    x = Conv2D(3, (3, 3), activation='elu', padding='same',name='encode16')(x)\n    x = Flatten()(x)\n    x = Dense(256, activation='elu',name='encode17')(x)\n    encoded = Dense(D_INPUT_SHAPE[0], activation='sigmoid',name='encode18')(x)\n    return Model(inp, encoded)\n\nencoder = Encoder()\nencoder.summary()",
      "execution_count": null,
      "outputs": []
    },
    {
      "metadata": {
        "trusted": true,
        "_uuid": "6ffd28bd9be5a7eb706c68927941898714fedf85"
      },
      "cell_type": "code",
      "source": "def Decoder():\n    inp = Input(shape=D_INPUT_SHAPE, name='decoder')\n    x = Dense(D_INPUT_SHAPE[0], activation='elu', name='decode1')(inp)\n    x = Dense(192, activation='elu', name='decode2')(x)\n    x = Reshape((8, 8, 3))(x)\n    x = Conv2D(32, (2, 2), activation='elu', padding='same', name='decode3')(x)\n    x = Conv2D(64, (3, 3), activation='elu', padding='same', name='decode4')(x)\n    x = Conv2DTranspose(64, (3, 3), strides=(2, 2), activation='elu', padding='same', name='decodetrans1')(x)\n    x = Conv2D(32, (2, 2), activation='elu', padding='same', name='decode5')(x)\n    x = Conv2D(64, (3, 3), activation='elu', padding='same', name='decode6')(x)\n    x = Conv2DTranspose(64, (3, 3), strides=(2, 2), activation='elu', padding='same', name='decodetrans2')(x)\n    x = Conv2D(32, (2, 2), activation='elu', padding='same', name='decode7')(x)\n    x = Conv2D(64, (3, 3), activation='elu', padding='same', name='decode8')(x)\n    x = Conv2DTranspose(64, (3, 3), strides=(2, 2), activation='elu', padding='same', name='decodetrans3')(x)\n    x = Conv2D(32, (3, 3), activation='elu', padding='same', name='decode9')(x)\n    x = Conv2D(64, (4, 4), activation='elu', padding='same', name='decode10')(x)\n    x = Conv2DTranspose(128, (3, 3), strides=(2, 2), activation='elu', padding='same', name='decodetrans4')(x)\n    x = Conv2D(64, (4, 4), activation='elu', padding='same', name='decode11')(x)\n    x = Conv2D(64, (3, 3), activation='elu', padding='same', name='decode12')(x)\n    x = Conv2D(32, (2, 2), activation='elu', padding='same', name='decode13')(x)\n    x = Conv2D(16, (1, 1), activation='elu', padding='same', name='decode14')(x)\n    decoded = Conv2D(3, (3, 3), activation='sigmoid', padding='same', name='decode15')(x)\n    return Model(inp, decoded)\n\ndecoder = Decoder()\ndecoder.summary()",
      "execution_count": null,
      "outputs": []
    },
    {
      "metadata": {
        "trusted": true,
        "_uuid": "1669ee62a786372479788afd06ed906b276b750a"
      },
      "cell_type": "code",
      "source": "def Autoencoder():\n    inp = Input(shape=INPUT_SHAPE)\n    x = Conv2D(128, (4, 4), activation='elu', padding='same',name='encode1')(inp)\n    x = Conv2D(64, (3, 3), activation='elu', padding='same',name='encode2')(x)\n    x = Conv2D(32, (2, 2), activation='elu', padding='same',name='encode3')(x)\n    x = MaxPooling2D((2, 2), padding='same')(x)\n    x = Conv2D(64, (4, 4), activation='elu', padding='same',name='encode4')(x)\n    x = Conv2D(32, (3, 3), activation='elu', padding='same',name='encode5')(x)\n    x = Conv2D(16, (2, 2), activation='elu', padding='same',name='encode6')(x)\n    x = MaxPooling2D((2, 2), padding='same')(x)\n    x = Conv2D(64, (4, 4), activation='elu', padding='same',name='encode7')(x)\n    x = Conv2D(32, (3, 3), activation='elu', padding='same',name='encode8')(x)\n    x = Conv2D(16, (2, 2), activation='elu', padding='same',name='encode9')(x)\n    x = MaxPooling2D((2, 2), padding='same')(x)\n    x = Conv2D(64, (4, 4), activation='elu', padding='same',name='encode10')(x)\n    x = Conv2D(32, (3, 3), activation='elu', padding='same',name='encode11')(x)\n    x = Conv2D(16, (2, 2), activation='elu', padding='same',name='encode12')(x)\n    x = MaxPooling2D((2, 2), padding='same')(x)\n    x = Conv2D(32, (4, 4), activation='elu', padding='same',name='encode13')(x)\n    x = Conv2D(16, (3, 3), activation='elu', padding='same',name='encode14')(x)\n    x = Conv2D(16, (2, 2), activation='elu', padding='same',name='encode15')(x)\n    x = Conv2D(3, (3, 3), activation='elu', padding='same',name='encode16')(x)\n    x = Flatten()(x)\n    x = Dense(256, activation='elu',name='encode17')(x)\n    encoded = Dense(D_INPUT_SHAPE[0], activation='sigmoid',name='encode18')(x)\n    x = Dense(D_INPUT_SHAPE[0], activation='elu', name='decode1')(encoded)\n    x = Dense(192, activation='elu', name='decode2')(x)\n    x = Reshape((8, 8, 3))(x)\n    x = Conv2D(32, (2, 2), activation='elu', padding='same', name='decode3')(x)\n    x = Conv2D(64, (3, 3), activation='elu', padding='same', name='decode4')(x)\n    x = Conv2DTranspose(64, (3, 3), strides=(2, 2), activation='elu', padding='same', name='decodetrans1')(x)\n    x = Conv2D(32, (2, 2), activation='elu', padding='same', name='decode5')(x)\n    x = Conv2D(64, (3, 3), activation='elu', padding='same', name='decode6')(x)\n    x = Conv2DTranspose(64, (3, 3), strides=(2, 2), activation='elu', padding='same', name='decodetrans2')(x)\n    x = Conv2D(32, (2, 2), activation='elu', padding='same', name='decode7')(x)\n    x = Conv2D(64, (3, 3), activation='elu', padding='same', name='decode8')(x)\n    x = Conv2DTranspose(64, (3, 3), strides=(2, 2), activation='elu', padding='same', name='decodetrans3')(x)\n    x = Conv2D(32, (3, 3), activation='elu', padding='same', name='decode9')(x)\n    x = Conv2D(64, (4, 4), activation='elu', padding='same', name='decode10')(x)\n    x = Conv2DTranspose(128, (3, 3), strides=(2, 2), activation='elu', padding='same', name='decodetrans4')(x)\n    x = Conv2D(64, (4, 4), activation='elu', padding='same', name='decode11')(x)\n    x = Conv2D(64, (3, 3), activation='elu', padding='same', name='decode12')(x)\n    x = Conv2D(32, (2, 2), activation='elu', padding='same', name='decode13')(x)\n    x = Conv2D(16, (1, 1), activation='elu', padding='same', name='decode14')(x)\n    decoded = Conv2D(3, (3, 3), activation='sigmoid', padding='same', name='decode15')(x)\n    return Model(inp, decoded)\n\nmodel = Autoencoder()\nmodel.compile(optimizer=Adam(lr=0.001), loss='mean_squared_error')\nmodel.summary()",
      "execution_count": null,
      "outputs": []
    },
    {
      "metadata": {
        "_uuid": "396c296aca3e414f269cb47359dfa65f008c979e"
      },
      "cell_type": "markdown",
      "source": "# Checkpoints\n\nGood to have some checkpoints for the models. The autoencoder really only benefits from ReduceLROnPlateau, the other checkpoints are just standard. "
    },
    {
      "metadata": {
        "trusted": true,
        "_uuid": "3e212da6f4b8651fde538066174d860aefe9c5b2"
      },
      "cell_type": "code",
      "source": "learning_rate_reduction = ReduceLROnPlateau(monitor='loss', \n                                            patience=2, \n                                            verbose=1, \n                                            factor=0.5,\n                                            min_lr=0.00001)\nfilepath = \"Face_Auto_Model.h5\"\ncheckpoint = ModelCheckpoint(filepath,\n                             save_best_only=True,\n                             monitor='loss',\n                             mode='min')\n\nearly_stopping = EarlyStopping(monitor='loss',\n                              patience=3,\n                              verbose=1,\n                              mode='min',\n                              restore_best_weights=True)",
      "execution_count": null,
      "outputs": []
    },
    {
      "metadata": {
        "_uuid": "a799ebe869de0abefc484deb5b5b80ddaf8ca916"
      },
      "cell_type": "markdown",
      "source": "# Train a Decoder on Random Data\n\nFirst thing, just for fun, let's quickly see what happens when we train just the decoder on random noise. By training the decoder on random noise we force the model to make average predictions on everything so we can see the most common features throughout the dataset."
    },
    {
      "metadata": {
        "trusted": true,
        "_uuid": "95695779b3d26a6d793b46332be152a546831d91"
      },
      "cell_type": "code",
      "source": "D_train_noise = random.random((X_train.shape[0], D_INPUT_SHAPE[0]))\n\nrandom_decoder = Decoder()\nrandom_decoder.compile(optimizer='adam', loss='mean_squared_error')",
      "execution_count": null,
      "outputs": []
    },
    {
      "metadata": {
        "trusted": true,
        "_uuid": "441873377039f605660e3a274629a05ae1686e0f"
      },
      "cell_type": "code",
      "source": "%%time \nrandom_decoder.fit(D_train_noise, X_train,\n          epochs=5, \n          batch_size=32,\n         callbacks=[learning_rate_reduction, checkpoint, early_stopping])",
      "execution_count": null,
      "outputs": []
    },
    {
      "metadata": {
        "_uuid": "731b1d623a4835b659ab77377cbc5c00c5d7a401"
      },
      "cell_type": "markdown",
      "source": "# Sample the Random Decoder"
    },
    {
      "metadata": {
        "trusted": true,
        "_uuid": "4fc86117553fb9aeae4d51e69769bfaadcbf8b9b"
      },
      "cell_type": "code",
      "source": "D_test_noise = random.random((100, D_INPUT_SHAPE[0]))\n\nTest_imgs = random_decoder.predict(D_test_noise)",
      "execution_count": null,
      "outputs": []
    },
    {
      "metadata": {
        "trusted": true,
        "_uuid": "46a6262281eabf011fece01610efc392f090e6ff"
      },
      "cell_type": "code",
      "source": "plt.figure(figsize=(20, 4))\nfor i in range(5):\n    plt.subplot(2, 10, i + 1)\n    plt.imshow(Test_imgs[i].reshape(INPUT_SHAPE))\n    plt.axis('off')\n \nplt.tight_layout()\nplt.show()",
      "execution_count": null,
      "outputs": []
    },
    {
      "metadata": {
        "_uuid": "fe5cef157b3367cecfc5d8425a502f748b3314dd"
      },
      "cell_type": "markdown",
      "source": "The result is the most average image the model could make. In a fairly uniform dataset like this one, we get a pretty clear face as a result with all the important features."
    },
    {
      "metadata": {
        "_uuid": "d87ec2cc12f7cc77c78bbed0b49bf4bdee92499e"
      },
      "cell_type": "markdown",
      "source": "# Train the Autoencoder\n\nNow to train the autoencoder proper. Standard autoencoder training procedure here except that we will not use any validation splits. The loss will use the ReduceLROnPlateau a few times before it is over. Takes around 1 hour."
    },
    {
      "metadata": {
        "trusted": true,
        "_uuid": "0e93dcdb229fc2eabfb8138ed1ec2ae3028901a6"
      },
      "cell_type": "code",
      "source": "%%time \nmodel.fit(X_train_noisy, X_train,\n          epochs=70,\n          batch_size=50,\n         callbacks=[learning_rate_reduction, checkpoint, early_stopping])",
      "execution_count": null,
      "outputs": []
    },
    {
      "metadata": {
        "_uuid": "81d51b81e83d4837d4819c1d29023f0642678ed7"
      },
      "cell_type": "markdown",
      "source": "# Sample the Autoencoder Model"
    },
    {
      "metadata": {
        "trusted": true,
        "_uuid": "6b4fa6cd83b3608640fc5d67d5611eae6acdd217"
      },
      "cell_type": "code",
      "source": "decoded_imgs = model.predict(X_train_noisy)",
      "execution_count": null,
      "outputs": []
    },
    {
      "metadata": {
        "trusted": true,
        "_uuid": "d7cca64fd5d22fee1efd763ef5eb29b5f055277c"
      },
      "cell_type": "code",
      "source": "plt.figure(figsize=(20, 4))\nfor i in range(5):\n    # original\n    plt.subplot(2, 10, i + 1)\n    plt.imshow(X_train[i].reshape(INPUT_SHAPE))\n    plt.axis('off')\n \n    # reconstruction\n    plt.subplot(2, 10, i + 1 + 10)\n    plt.imshow(decoded_imgs[i].reshape(INPUT_SHAPE))\n    plt.axis('off')\n \nplt.tight_layout()\nplt.show()",
      "execution_count": null,
      "outputs": []
    },
    {
      "metadata": {
        "_uuid": "a02129e3bf32f344aaed4d74291d3cce3aebb41b"
      },
      "cell_type": "markdown",
      "source": "# Generate New Autoencoded Faces\n\nIn order to generate new faces, we will use PCA on the encoded results to make new \"random\" data that is still normally distributed in a similar way as the actual face results. I used some code found in this repository to get this part working correctly: https://github.com/HackerPoet/FaceEditor"
    },
    {
      "metadata": {
        "trusted": true,
        "_uuid": "14e70d09c6aa8c70983b5202e850adb1e2e5731f"
      },
      "cell_type": "code",
      "source": "model.save('Face_Auto_Model.hdf5')\nmodel.save_weights(\"Face_Auto_Weights.hdf5\")",
      "execution_count": null,
      "outputs": []
    },
    {
      "metadata": {
        "trusted": true,
        "_uuid": "e5dfe6d5f1c35c233169bb99169a05cf824ad3a4"
      },
      "cell_type": "code",
      "source": "encoder = Encoder()\ndecoder = Decoder()\n\nencoder.load_weights(\"Face_Auto_Weights.hdf5\", by_name=True)\ndecoder.load_weights(\"Face_Auto_Weights.hdf5\", by_name=True)",
      "execution_count": null,
      "outputs": []
    },
    {
      "metadata": {
        "trusted": true,
        "_uuid": "d97a92166363aa0305eee64019c7ca8a268bb176"
      },
      "cell_type": "code",
      "source": "Encoder_predicts = encoder.predict(X_train)",
      "execution_count": null,
      "outputs": []
    },
    {
      "metadata": {
        "trusted": true,
        "_uuid": "4818f50eaa4498b81e5dc17f2849509e99969c5e",
        "_kg_hide-output": true
      },
      "cell_type": "code",
      "source": "func = K.function([decoder.input, K.learning_phase()],\n                        [decoder.output])\n\nrand_vecs = np.random.normal(0.0, 1.0, (50, D_INPUT_SHAPE[0]))\n\nx_mean = np.mean(Encoder_predicts, axis=0)\nx_stds = np.std(Encoder_predicts, axis=0)\nx_cov = np.cov((Encoder_predicts - x_mean).T)\ne, v = np.linalg.eig(x_cov)\n\nprint(x_mean)\nprint(x_stds)\nprint(x_cov)",
      "execution_count": null,
      "outputs": []
    },
    {
      "metadata": {
        "trusted": true,
        "_uuid": "0a5e40d860342633d32288e72eb36b674e7e5daa"
      },
      "cell_type": "code",
      "source": "e_list = e.tolist()\ne_list.sort(reverse=True)\nplt.clf()\nplt.bar(np.arange(e.shape[0]), e_list, align='center')\nplt.draw()\n\nx_vecs = x_mean + np.dot(v, (rand_vecs * e).T).T\ny_faces = func([x_vecs, 0])[0]",
      "execution_count": null,
      "outputs": []
    },
    {
      "metadata": {
        "_uuid": "9c9615a9ab886f34450221520635880735f2fa7e"
      },
      "cell_type": "markdown",
      "source": "# Sample New Faces\n\nHere is a selection of the new random faces."
    },
    {
      "metadata": {
        "trusted": true,
        "_uuid": "de868a877288957f9488b7499e576865486d730b"
      },
      "cell_type": "code",
      "source": "plt.figure(figsize=(50, 20))\nfor i in range(50):\n    plt.subplot(5, 10, i + 1)\n    plt.imshow(y_faces[i])\n    plt.axis('off')",
      "execution_count": null,
      "outputs": []
    },
    {
      "metadata": {
        "_uuid": "5061b17ec8361006b6ee003903b4f091d8bf8b1d"
      },
      "cell_type": "markdown",
      "source": "# Results\n\nThe results are pretty good, farly clear faces with a lot of variety between them. We can automatically make more or manually adjust features in the array to get a feel for key features that the neural network found to be the most important. \n\nIf you enjoyed this notebook, please like, comment, and check out some of my other notebooks on Kaggle: \n\nMaking AI Dance Videos: https://www.kaggle.com/valkling/how-to-teach-an-ai-to-dance\n\nImage Colorization: https://www.kaggle.com/valkling/image-colorization-using-autoencoders-and-resnet/notebook\n\nStar Wars Steganography: https://www.kaggle.com/valkling/steganography-hiding-star-wars-scripts-in-images"
    }
  ],
  "metadata": {
    "kernelspec": {
      "display_name": "Python 3",
      "language": "python",
      "name": "python3"
    },
    "language_info": {
      "name": "python",
      "version": "3.6.6",
      "mimetype": "text/x-python",
      "codemirror_mode": {
        "name": "ipython",
        "version": 3
      },
      "pygments_lexer": "ipython3",
      "nbconvert_exporter": "python",
      "file_extension": ".py"
    }
  },
  "nbformat": 4,
  "nbformat_minor": 1
}