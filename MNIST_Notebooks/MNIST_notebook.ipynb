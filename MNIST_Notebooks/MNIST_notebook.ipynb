{
 "cells": [
  {
   "cell_type": "markdown",
   "metadata": {
    "colab_type": "text",
    "id": "g8cPF-XxIyx3"
   },
   "source": [
    "# Import "
   ]
  },
  {
   "cell_type": "code",
   "execution_count": 2,
   "metadata": {
    "colab": {
     "autoexec": {
      "startup": false,
      "wait_interval": 0
     },
     "base_uri": "https://localhost:8080/",
     "height": 88,
     "output_extras": [
      {
       "item_id": 2
      }
     ]
    },
    "colab_type": "code",
    "executionInfo": {
     "elapsed": 2164,
     "status": "ok",
     "timestamp": 1520287135727,
     "user": {
      "displayName": "Patrick DeKelly",
      "photoUrl": "https://lh3.googleusercontent.com/a/default-user=s128",
      "userId": "113168316542890578910"
     },
     "user_tz": 300
    },
    "id": "NSrMGCjNiaSQ",
    "outputId": "bb8fb101-6882-4fba-ac92-870c9019d9b1"
   },
   "outputs": [
    {
     "name": "stderr",
     "output_type": "stream",
     "text": [
      "Using TensorFlow backend.\n",
      "/usr/local/lib/python3.6/dist-packages/sklearn/cross_validation.py:41: DeprecationWarning: This module was deprecated in version 0.18 in favor of the model_selection module into which all the refactored classes and functions are moved. Also note that the interface of the new CV iterators are different from that of this module. This module will be removed in 0.20.\n",
      "  \"This module will be removed in 0.20.\", DeprecationWarning)\n"
     ]
    }
   ],
   "source": [
    "\n",
    "import keras\n",
    "from keras.models import Sequential\n",
    "from keras.layers import Dense, Dropout, Conv2D, MaxPooling2D, Flatten, MaxPool2D\n",
    "from keras.optimizers import RMSprop\n",
    "from keras.layers.advanced_activations import LeakyReLU, PReLU\n",
    "from sklearn.cross_validation import StratifiedKFold\n",
    "from sklearn.model_selection import train_test_split\n",
    "import pandas as pd\n",
    "import numpy as np\n",
    "import random as rn\n",
    "import math\n",
    "import matplotlib.pyplot as plt\n",
    "from keras import backend as K\n",
    "from keras.preprocessing.image import ImageDataGenerator\n",
    "from keras.callbacks import ReduceLROnPlateau\n",
    "from numba import vectorize\n"
   ]
  },
  {
   "cell_type": "code",
   "execution_count": 0,
   "metadata": {
    "colab": {
     "autoexec": {
      "startup": false,
      "wait_interval": 0
     }
    },
    "colab_type": "code",
    "collapsed": true,
    "id": "tSh-UY63I9bd"
   },
   "outputs": [],
   "source": [
    "# random seed\n",
    "seed = 43\n",
    "np.random.seed(seed)"
   ]
  },
  {
   "cell_type": "markdown",
   "metadata": {
    "colab_type": "text",
    "id": "HwekY1m1I5vb"
   },
   "source": [
    "# Read in and preprocessing"
   ]
  },
  {
   "cell_type": "code",
   "execution_count": 0,
   "metadata": {
    "colab": {
     "autoexec": {
      "startup": false,
      "wait_interval": 0
     }
    },
    "colab_type": "code",
    "collapsed": true,
    "id": "9zr-f1n6iaTL"
   },
   "outputs": [],
   "source": [
    "train_data = pd.read_csv('train.csv')\n",
    "test_data = pd.read_csv('test.csv')"
   ]
  },
  {
   "cell_type": "code",
   "execution_count": 6,
   "metadata": {
    "colab": {
     "autoexec": {
      "startup": false,
      "wait_interval": 0
     },
     "base_uri": "https://localhost:8080/",
     "height": 34,
     "output_extras": [
      {
       "item_id": 1
      }
     ]
    },
    "colab_type": "code",
    "executionInfo": {
     "elapsed": 373,
     "status": "ok",
     "timestamp": 1520287185507,
     "user": {
      "displayName": "Patrick DeKelly",
      "photoUrl": "https://lh3.googleusercontent.com/a/default-user=s128",
      "userId": "113168316542890578910"
     },
     "user_tz": 300
    },
    "id": "CuCLjMb4YcLX",
    "outputId": "c9d90edf-4125-46d2-e4ae-df621ce806d0"
   },
   "outputs": [
    {
     "data": {
      "text/plain": [
       "(28000, 784)"
      ]
     },
     "execution_count": 6,
     "metadata": {
      "tags": []
     },
     "output_type": "execute_result"
    }
   ],
   "source": [
    "test_data.shape"
   ]
  },
  {
   "cell_type": "code",
   "execution_count": 7,
   "metadata": {
    "colab": {
     "autoexec": {
      "startup": false,
      "wait_interval": 0
     },
     "base_uri": "https://localhost:8080/",
     "height": 233,
     "output_extras": [
      {
       "item_id": 1
      }
     ]
    },
    "colab_type": "code",
    "executionInfo": {
     "elapsed": 742,
     "status": "ok",
     "timestamp": 1520287186506,
     "user": {
      "displayName": "Patrick DeKelly",
      "photoUrl": "https://lh3.googleusercontent.com/a/default-user=s128",
      "userId": "113168316542890578910"
     },
     "user_tz": 300
    },
    "id": "KKa0b8priaTR",
    "outputId": "1edd2d4e-8602-44cb-e0d6-7fd28f0f97dd"
   },
   "outputs": [
    {
     "data": {
      "text/html": [
       "<div>\n",
       "<style scoped>\n",
       "    .dataframe tbody tr th:only-of-type {\n",
       "        vertical-align: middle;\n",
       "    }\n",
       "\n",
       "    .dataframe tbody tr th {\n",
       "        vertical-align: top;\n",
       "    }\n",
       "\n",
       "    .dataframe thead th {\n",
       "        text-align: right;\n",
       "    }\n",
       "</style>\n",
       "<table border=\"1\" class=\"dataframe\">\n",
       "  <thead>\n",
       "    <tr style=\"text-align: right;\">\n",
       "      <th></th>\n",
       "      <th>pixel0</th>\n",
       "      <th>pixel1</th>\n",
       "      <th>pixel2</th>\n",
       "      <th>pixel3</th>\n",
       "      <th>pixel4</th>\n",
       "      <th>pixel5</th>\n",
       "      <th>pixel6</th>\n",
       "      <th>pixel7</th>\n",
       "      <th>pixel8</th>\n",
       "      <th>pixel9</th>\n",
       "      <th>...</th>\n",
       "      <th>pixel774</th>\n",
       "      <th>pixel775</th>\n",
       "      <th>pixel776</th>\n",
       "      <th>pixel777</th>\n",
       "      <th>pixel778</th>\n",
       "      <th>pixel779</th>\n",
       "      <th>pixel780</th>\n",
       "      <th>pixel781</th>\n",
       "      <th>pixel782</th>\n",
       "      <th>pixel783</th>\n",
       "    </tr>\n",
       "  </thead>\n",
       "  <tbody>\n",
       "    <tr>\n",
       "      <th>0</th>\n",
       "      <td>0</td>\n",
       "      <td>0</td>\n",
       "      <td>0</td>\n",
       "      <td>0</td>\n",
       "      <td>0</td>\n",
       "      <td>0</td>\n",
       "      <td>0</td>\n",
       "      <td>0</td>\n",
       "      <td>0</td>\n",
       "      <td>0</td>\n",
       "      <td>...</td>\n",
       "      <td>0</td>\n",
       "      <td>0</td>\n",
       "      <td>0</td>\n",
       "      <td>0</td>\n",
       "      <td>0</td>\n",
       "      <td>0</td>\n",
       "      <td>0</td>\n",
       "      <td>0</td>\n",
       "      <td>0</td>\n",
       "      <td>0</td>\n",
       "    </tr>\n",
       "    <tr>\n",
       "      <th>1</th>\n",
       "      <td>0</td>\n",
       "      <td>0</td>\n",
       "      <td>0</td>\n",
       "      <td>0</td>\n",
       "      <td>0</td>\n",
       "      <td>0</td>\n",
       "      <td>0</td>\n",
       "      <td>0</td>\n",
       "      <td>0</td>\n",
       "      <td>0</td>\n",
       "      <td>...</td>\n",
       "      <td>0</td>\n",
       "      <td>0</td>\n",
       "      <td>0</td>\n",
       "      <td>0</td>\n",
       "      <td>0</td>\n",
       "      <td>0</td>\n",
       "      <td>0</td>\n",
       "      <td>0</td>\n",
       "      <td>0</td>\n",
       "      <td>0</td>\n",
       "    </tr>\n",
       "    <tr>\n",
       "      <th>2</th>\n",
       "      <td>0</td>\n",
       "      <td>0</td>\n",
       "      <td>0</td>\n",
       "      <td>0</td>\n",
       "      <td>0</td>\n",
       "      <td>0</td>\n",
       "      <td>0</td>\n",
       "      <td>0</td>\n",
       "      <td>0</td>\n",
       "      <td>0</td>\n",
       "      <td>...</td>\n",
       "      <td>0</td>\n",
       "      <td>0</td>\n",
       "      <td>0</td>\n",
       "      <td>0</td>\n",
       "      <td>0</td>\n",
       "      <td>0</td>\n",
       "      <td>0</td>\n",
       "      <td>0</td>\n",
       "      <td>0</td>\n",
       "      <td>0</td>\n",
       "    </tr>\n",
       "    <tr>\n",
       "      <th>3</th>\n",
       "      <td>0</td>\n",
       "      <td>0</td>\n",
       "      <td>0</td>\n",
       "      <td>0</td>\n",
       "      <td>0</td>\n",
       "      <td>0</td>\n",
       "      <td>0</td>\n",
       "      <td>0</td>\n",
       "      <td>0</td>\n",
       "      <td>0</td>\n",
       "      <td>...</td>\n",
       "      <td>0</td>\n",
       "      <td>0</td>\n",
       "      <td>0</td>\n",
       "      <td>0</td>\n",
       "      <td>0</td>\n",
       "      <td>0</td>\n",
       "      <td>0</td>\n",
       "      <td>0</td>\n",
       "      <td>0</td>\n",
       "      <td>0</td>\n",
       "    </tr>\n",
       "    <tr>\n",
       "      <th>4</th>\n",
       "      <td>0</td>\n",
       "      <td>0</td>\n",
       "      <td>0</td>\n",
       "      <td>0</td>\n",
       "      <td>0</td>\n",
       "      <td>0</td>\n",
       "      <td>0</td>\n",
       "      <td>0</td>\n",
       "      <td>0</td>\n",
       "      <td>0</td>\n",
       "      <td>...</td>\n",
       "      <td>0</td>\n",
       "      <td>0</td>\n",
       "      <td>0</td>\n",
       "      <td>0</td>\n",
       "      <td>0</td>\n",
       "      <td>0</td>\n",
       "      <td>0</td>\n",
       "      <td>0</td>\n",
       "      <td>0</td>\n",
       "      <td>0</td>\n",
       "    </tr>\n",
       "  </tbody>\n",
       "</table>\n",
       "<p>5 rows × 784 columns</p>\n",
       "</div>"
      ],
      "text/plain": [
       "   pixel0  pixel1  pixel2  pixel3  pixel4  pixel5  pixel6  pixel7  pixel8  \\\n",
       "0       0       0       0       0       0       0       0       0       0   \n",
       "1       0       0       0       0       0       0       0       0       0   \n",
       "2       0       0       0       0       0       0       0       0       0   \n",
       "3       0       0       0       0       0       0       0       0       0   \n",
       "4       0       0       0       0       0       0       0       0       0   \n",
       "\n",
       "   pixel9    ...     pixel774  pixel775  pixel776  pixel777  pixel778  \\\n",
       "0       0    ...            0         0         0         0         0   \n",
       "1       0    ...            0         0         0         0         0   \n",
       "2       0    ...            0         0         0         0         0   \n",
       "3       0    ...            0         0         0         0         0   \n",
       "4       0    ...            0         0         0         0         0   \n",
       "\n",
       "   pixel779  pixel780  pixel781  pixel782  pixel783  \n",
       "0         0         0         0         0         0  \n",
       "1         0         0         0         0         0  \n",
       "2         0         0         0         0         0  \n",
       "3         0         0         0         0         0  \n",
       "4         0         0         0         0         0  \n",
       "\n",
       "[5 rows x 784 columns]"
      ]
     },
     "execution_count": 7,
     "metadata": {
      "tags": []
     },
     "output_type": "execute_result"
    }
   ],
   "source": [
    "train_data_labels = train_data.label.values\n",
    "train_data = train_data.drop(['label'], axis=1)\n",
    "train_data[:5]"
   ]
  },
  {
   "cell_type": "code",
   "execution_count": 8,
   "metadata": {
    "colab": {
     "autoexec": {
      "startup": false,
      "wait_interval": 0
     },
     "base_uri": "https://localhost:8080/",
     "height": 34,
     "output_extras": [
      {
       "item_id": 1
      }
     ]
    },
    "colab_type": "code",
    "executionInfo": {
     "elapsed": 677,
     "status": "ok",
     "timestamp": 1520287187337,
     "user": {
      "displayName": "Patrick DeKelly",
      "photoUrl": "https://lh3.googleusercontent.com/a/default-user=s128",
      "userId": "113168316542890578910"
     },
     "user_tz": 300
    },
    "id": "wst-6CLjiaTY",
    "outputId": "f81c68ab-c674-4796-ffb2-4e78adf71956"
   },
   "outputs": [
    {
     "data": {
      "text/plain": [
       "42000"
      ]
     },
     "execution_count": 8,
     "metadata": {
      "tags": []
     },
     "output_type": "execute_result"
    }
   ],
   "source": [
    "train_data = train_data.values.reshape(train_data.shape[0],28,28,1)\n",
    "train_data = train_data.astype('float32')\n",
    "train_data /= 255\n",
    "len(train_data)"
   ]
  },
  {
   "cell_type": "code",
   "execution_count": 0,
   "metadata": {
    "colab": {
     "autoexec": {
      "startup": false,
      "wait_interval": 0
     }
    },
    "colab_type": "code",
    "collapsed": true,
    "id": "WlhRaG9biaUG"
   },
   "outputs": [],
   "source": [
    "train_data_labels = keras.utils.to_categorical(train_data_labels, 10)"
   ]
  },
  {
   "cell_type": "code",
   "execution_count": 0,
   "metadata": {
    "colab": {
     "autoexec": {
      "startup": false,
      "wait_interval": 0
     }
    },
    "colab_type": "code",
    "collapsed": true,
    "id": "FqJAPIhYiaUz"
   },
   "outputs": [],
   "source": [
    "test_data = test_data.values.reshape(test_data.shape[0],28,28,1)\n",
    "X_test = test_data.astype('float32')\n",
    "X_test /= 255"
   ]
  },
  {
   "cell_type": "code",
   "execution_count": 0,
   "metadata": {
    "colab": {
     "autoexec": {
      "startup": false,
      "wait_interval": 0
     }
    },
    "colab_type": "code",
    "collapsed": true,
    "id": "NHB4jR10WyaF"
   },
   "outputs": [],
   "source": [
    " X_train, X_val, Y_train, Y_val = train_test_split(train_data, train_data_labels, test_size=0.16, random_state=seed)"
   ]
  },
  {
   "cell_type": "markdown",
   "metadata": {
    "colab_type": "text",
    "id": "vKOOTxF8Kokv"
   },
   "source": [
    "# Make Model"
   ]
  },
  {
   "cell_type": "code",
   "execution_count": 13,
   "metadata": {
    "colab": {
     "autoexec": {
      "startup": false,
      "wait_interval": 0
     },
     "base_uri": "https://localhost:8080/",
     "height": 748,
     "output_extras": [
      {
       "item_id": 1
      }
     ]
    },
    "colab_type": "code",
    "executionInfo": {
     "elapsed": 760,
     "status": "ok",
     "timestamp": 1520287242457,
     "user": {
      "displayName": "Patrick DeKelly",
      "photoUrl": "https://lh3.googleusercontent.com/a/default-user=s128",
      "userId": "113168316542890578910"
     },
     "user_tz": 300
    },
    "id": "fS5EvGhFiaU_",
    "outputId": "1f8a014b-0bc5-4038-a68d-ad9604b27475"
   },
   "outputs": [
    {
     "name": "stdout",
     "output_type": "stream",
     "text": [
      "_________________________________________________________________\n",
      "Layer (type)                 Output Shape              Param #   \n",
      "=================================================================\n",
      "conv2d_7 (Conv2D)            (None, 24, 24, 32)        832       \n",
      "_________________________________________________________________\n",
      "leaky_re_lu_7 (LeakyReLU)    (None, 24, 24, 32)        0         \n",
      "_________________________________________________________________\n",
      "conv2d_8 (Conv2D)            (None, 20, 20, 32)        25632     \n",
      "_________________________________________________________________\n",
      "leaky_re_lu_8 (LeakyReLU)    (None, 20, 20, 32)        0         \n",
      "_________________________________________________________________\n",
      "conv2d_9 (Conv2D)            (None, 17, 17, 32)        16416     \n",
      "_________________________________________________________________\n",
      "leaky_re_lu_9 (LeakyReLU)    (None, 17, 17, 32)        0         \n",
      "_________________________________________________________________\n",
      "max_pooling2d_3 (MaxPooling2 (None, 8, 8, 32)          0         \n",
      "_________________________________________________________________\n",
      "conv2d_10 (Conv2D)           (None, 6, 6, 64)          18496     \n",
      "_________________________________________________________________\n",
      "leaky_re_lu_10 (LeakyReLU)   (None, 6, 6, 64)          0         \n",
      "_________________________________________________________________\n",
      "conv2d_11 (Conv2D)           (None, 4, 4, 64)          36928     \n",
      "_________________________________________________________________\n",
      "leaky_re_lu_11 (LeakyReLU)   (None, 4, 4, 64)          0         \n",
      "_________________________________________________________________\n",
      "conv2d_12 (Conv2D)           (None, 2, 2, 64)          36928     \n",
      "_________________________________________________________________\n",
      "leaky_re_lu_12 (LeakyReLU)   (None, 2, 2, 64)          0         \n",
      "_________________________________________________________________\n",
      "max_pooling2d_4 (MaxPooling2 (None, 1, 1, 64)          0         \n",
      "_________________________________________________________________\n",
      "flatten_2 (Flatten)          (None, 64)                0         \n",
      "_________________________________________________________________\n",
      "dense_4 (Dense)              (None, 128)               8320      \n",
      "_________________________________________________________________\n",
      "dense_5 (Dense)              (None, 64)                8256      \n",
      "_________________________________________________________________\n",
      "dense_6 (Dense)              (None, 10)                650       \n",
      "=================================================================\n",
      "Total params: 152,458\n",
      "Trainable params: 152,458\n",
      "Non-trainable params: 0\n",
      "_________________________________________________________________\n"
     ]
    }
   ],
   "source": [
    "\n",
    "def createModel():\n",
    "  model = Sequential()\n",
    "\n",
    "  model.add(Conv2D(filters = 32, kernel_size = (5,5),\n",
    "                   activation ='relu', input_shape = (28,28,1)))\n",
    "  model.add(LeakyReLU(1/10))\n",
    "  model.add(Conv2D(filters = 32, kernel_size = (5,5), \n",
    "                   activation ='relu'))\n",
    "  model.add(LeakyReLU(1/10))\n",
    "  model.add(Conv2D(filters = 32, kernel_size = (4,4), \n",
    "                   activation ='relu'))\n",
    "  model.add(LeakyReLU(1/10))\n",
    "  model.add(MaxPool2D(pool_size=(2,2)))\n",
    "\n",
    "\n",
    "\n",
    "  model.add(Conv2D(filters = 64, kernel_size = (3,3), \n",
    "                   activation ='relu'))\n",
    "  model.add(LeakyReLU(1/10))\n",
    "  model.add(Conv2D(filters = 64, kernel_size = (3,3), \n",
    "                   activation ='relu'))\n",
    "  model.add(LeakyReLU(1/10))\n",
    "  model.add(Conv2D(filters = 64, kernel_size = (3,3), \n",
    "                   activation ='relu'))\n",
    "  model.add(LeakyReLU(1/10))\n",
    "\n",
    "  model.add(MaxPool2D(pool_size=(2,2), strides=(2,2)))\n",
    "\n",
    "\n",
    "\n",
    "  model.add(Flatten())\n",
    "  model.add(Dense(128, activation='relu'))\n",
    "\n",
    "  model.add(Dense(64, activation='relu'))\n",
    "\n",
    "  model.add(Dense(10, activation = \"softmax\"))\n",
    "\n",
    "  model.compile(optimizer = 'adam' , loss = \"categorical_crossentropy\", metrics=[\"accuracy\"])\n",
    "  return model\n",
    "\n",
    "model = createModel()\n",
    "model.summary()"
   ]
  },
  {
   "cell_type": "code",
   "execution_count": 0,
   "metadata": {
    "colab": {
     "autoexec": {
      "startup": false,
      "wait_interval": 0
     }
    },
    "colab_type": "code",
    "collapsed": true,
    "id": "zdPIa0IOiaVH"
   },
   "outputs": [],
   "source": [
    "\n",
    "datagen = ImageDataGenerator(\n",
    "        rotation_range=15,\n",
    "        zoom_range = 0.15,\n",
    "        width_shift_range=0.15,\n",
    "        height_shift_range=0.15,\n",
    "        horizontal_flip=False,\n",
    "        vertical_flip=False)"
   ]
  },
  {
   "cell_type": "code",
   "execution_count": 0,
   "metadata": {
    "colab": {
     "autoexec": {
      "startup": false,
      "wait_interval": 0
     }
    },
    "colab_type": "code",
    "collapsed": true,
    "id": "zO-6rvOXiaVY"
   },
   "outputs": [],
   "source": [
    "learning_rate_reduction = ReduceLROnPlateau(monitor='val_acc', \n",
    "                                            patience=6, \n",
    "                                            verbose=1, \n",
    "                                            factor=0.7, \n",
    "                                            min_lr=0.00001)"
   ]
  },
  {
   "cell_type": "markdown",
   "metadata": {
    "colab_type": "text",
    "id": "Mdu_2Nf6KuV1"
   },
   "source": [
    "# Train Model\n",
    "Should hit 0.99+ val_auc within 10-20 epochs. Running long enough will improve that farther. The model is pretty much immune to overfitting, and can still makes some small gains in the submission file after running it for a really long time (100+ epochs)."
   ]
  },
  {
   "cell_type": "code",
   "execution_count": 19,
   "metadata": {
    "colab": {
     "autoexec": {
      "startup": false,
      "wait_interval": 0
     },
     "base_uri": "https://localhost:8080/",
     "height": 714,
     "output_extras": [
      {
       "item_id": 37
      },
      {
       "item_id": 38
      }
     ]
    },
    "colab_type": "code",
    "executionInfo": {
     "elapsed": 468329,
     "status": "ok",
     "timestamp": 1520290115222,
     "user": {
      "displayName": "Patrick DeKelly",
      "photoUrl": "https://lh3.googleusercontent.com/a/default-user=s128",
      "userId": "113168316542890578910"
     },
     "user_tz": 300
    },
    "id": "skwZGfXviaV9",
    "outputId": "af6e25e1-4705-4dc0-9782-651787bf88a0"
   },
   "outputs": [
    {
     "name": "stdout",
     "output_type": "stream",
     "text": [
      "Epoch 1/20\n",
      " - 22s - loss: 0.0068 - acc: 0.9978 - val_loss: 0.0315 - val_acc: 0.9942\n",
      "Epoch 2/20\n",
      " - 23s - loss: 0.0079 - acc: 0.9973 - val_loss: 0.0312 - val_acc: 0.9943\n",
      "Epoch 3/20\n",
      " - 24s - loss: 0.0069 - acc: 0.9980 - val_loss: 0.0312 - val_acc: 0.9942\n",
      "Epoch 4/20\n",
      " - 23s - loss: 0.0071 - acc: 0.9980 - val_loss: 0.0320 - val_acc: 0.9945\n",
      "Epoch 5/20\n",
      " - 25s - loss: 0.0074 - acc: 0.9973 - val_loss: 0.0310 - val_acc: 0.9945\n",
      "Epoch 6/20\n",
      " - 23s - loss: 0.0061 - acc: 0.9981 - val_loss: 0.0303 - val_acc: 0.9949\n",
      "Epoch 7/20\n",
      " - 24s - loss: 0.0087 - acc: 0.9972 - val_loss: 0.0298 - val_acc: 0.9946\n",
      "Epoch 8/20\n",
      " - 24s - loss: 0.0067 - acc: 0.9981 - val_loss: 0.0300 - val_acc: 0.9948\n",
      "Epoch 9/20\n",
      " - 22s - loss: 0.0074 - acc: 0.9977 - val_loss: 0.0306 - val_acc: 0.9943\n",
      "Epoch 10/20\n",
      " - 24s - loss: 0.0068 - acc: 0.9978 - val_loss: 0.0300 - val_acc: 0.9943\n",
      "Epoch 11/20\n",
      " - 23s - loss: 0.0074 - acc: 0.9976 - val_loss: 0.0300 - val_acc: 0.9943\n",
      "Epoch 12/20\n",
      " - 23s - loss: 0.0072 - acc: 0.9979 - val_loss: 0.0315 - val_acc: 0.9943\n",
      "Epoch 13/20\n",
      " - 23s - loss: 0.0084 - acc: 0.9973 - val_loss: 0.0309 - val_acc: 0.9945\n",
      "Epoch 14/20\n",
      " - 23s - loss: 0.0064 - acc: 0.9979 - val_loss: 0.0310 - val_acc: 0.9942\n",
      "Epoch 15/20\n",
      " - 24s - loss: 0.0073 - acc: 0.9973 - val_loss: 0.0311 - val_acc: 0.9943\n",
      "Epoch 16/20\n",
      " - 23s - loss: 0.0074 - acc: 0.9979 - val_loss: 0.0317 - val_acc: 0.9945\n",
      "Epoch 17/20\n",
      " - 25s - loss: 0.0071 - acc: 0.9976 - val_loss: 0.0313 - val_acc: 0.9943\n",
      "Epoch 18/20\n",
      " - 23s - loss: 0.0072 - acc: 0.9977 - val_loss: 0.0318 - val_acc: 0.9945\n",
      "Epoch 19/20\n",
      " - 23s - loss: 0.0062 - acc: 0.9981 - val_loss: 0.0318 - val_acc: 0.9943\n",
      "Epoch 20/20\n",
      " - 23s - loss: 0.0069 - acc: 0.9980 - val_loss: 0.0314 - val_acc: 0.9945\n"
     ]
    },
    {
     "data": {
      "text/plain": [
       "<keras.callbacks.History at 0x7ff006086da0>"
      ]
     },
     "execution_count": 19,
     "metadata": {
      "tags": []
     },
     "output_type": "execute_result"
    }
   ],
   "source": [
    "BATCH_SIZE = 64\n",
    "\n",
    "model.fit_generator(datagen.flow(X_train, Y_train, batch_size= BATCH_SIZE),\n",
    "                    epochs = 20, validation_data = (X_val, Y_val),\n",
    "                    verbose = 2, steps_per_epoch=X_train.shape[0] // BATCH_SIZE\n",
    "                    , callbacks=[learning_rate_reduction])\n",
    "\n"
   ]
  },
  {
   "cell_type": "markdown",
   "metadata": {
    "colab_type": "text",
    "id": "PSgfkMHGK1Qe"
   },
   "source": [
    "# Save weights and make a submission"
   ]
  },
  {
   "cell_type": "code",
   "execution_count": 0,
   "metadata": {
    "colab": {
     "autoexec": {
      "startup": false,
      "wait_interval": 0
     }
    },
    "colab_type": "code",
    "collapsed": true,
    "id": "BKS_prP5iaWF"
   },
   "outputs": [],
   "source": [
    "model.save_weights(\"Best_Weights.h5\")"
   ]
  },
  {
   "cell_type": "code",
   "execution_count": 0,
   "metadata": {
    "colab": {
     "autoexec": {
      "startup": false,
      "wait_interval": 0
     }
    },
    "colab_type": "code",
    "collapsed": true,
    "id": "fbWOH_mRiaWM"
   },
   "outputs": [],
   "source": [
    "# make predictions\n",
    "predictions = model.predict_classes(X_test, verbose=0)\n",
    "\n",
    "submissions=pd.DataFrame({\"ImageId\": list(range(1,len(predictions)+1)),\n",
    "                         \"Label\": predictions})\n",
    "submissions.to_csv(\"MSNIST_Submission.csv\", index=False, header=True)"
   ]
  }
 ],
 "metadata": {
  "accelerator": "GPU",
  "colab": {
   "collapsed_sections": [],
   "default_view": {},
   "name": "MNIST_notebook.ipynb",
   "provenance": [],
   "version": "0.3.2",
   "views": {}
  },
  "kernelspec": {
   "display_name": "Python 3",
   "language": "python",
   "name": "python3"
  },
  "language_info": {
   "codemirror_mode": {
    "name": "ipython",
    "version": 3
   },
   "file_extension": ".py",
   "mimetype": "text/x-python",
   "name": "python",
   "nbconvert_exporter": "python",
   "pygments_lexer": "ipython3",
   "version": "3.6.3"
  }
 },
 "nbformat": 4,
 "nbformat_minor": 1
}
